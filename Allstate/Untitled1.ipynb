{
 "cells": [
  {
   "cell_type": "code",
   "execution_count": 1,
   "metadata": {
    "collapsed": false
   },
   "outputs": [
    {
     "name": "stdout",
     "output_type": "stream",
     "text": [
      "Successfully imported Spark Modules\n",
      "5\n",
      "defaultdict(<class 'int'>, {'scala': 1, 'java': 1, 'spark': 1, 'akka': 1, 'hadoop': 1})\n"
     ]
    }
   ],
   "source": [
    "#### This cell is to make spark work on a windows laptop\n",
    "import os\n",
    "import sys\n",
    "\n",
    "# Path for spark source folder\n",
    "os.environ['SPARK_HOME']=\"C:\\spark-2.0.1-bin-hadoop2.7\"\n",
    "\n",
    "# Append pyspark  to Python Path\n",
    "sys.path.append(\"C:\\spark-2.0.1-bin-hadoop2.7\\python\")\n",
    "sys.path.append(\"C:\\spark-2.0.1-bin-hadoop2.7\\python\\lib\\py4j-0.10.3-src.zip\")\n",
    "#os.environ['SPARK_EXECUTOR_MEMORY']=\"5G\"\n",
    "\n",
    "try:\n",
    "    from pyspark import SparkContext\n",
    "    from pyspark import SparkConf\n",
    "    from pyspark.sql import SQLContext\n",
    "    print (\"Successfully imported Spark Modules\")\n",
    "\n",
    "except ImportError as e:\n",
    "    print (\"Can not import Spark Modules\", e)\n",
    "    sys.exit(1)\n",
    "\n",
    "# Initialize SparkContext\n",
    "sc = SparkContext('local')\n",
    "words = sc.parallelize([\"scala\",\"java\",\"hadoop\",\"spark\",\"akka\"])\n",
    "print (words.count())\n",
    "print(words.countByValue())"
   ]
  },
  {
   "cell_type": "code",
   "execution_count": 19,
   "metadata": {
    "collapsed": false
   },
   "outputs": [
    {
     "name": "stdout",
     "output_type": "stream",
     "text": [
      "root\n",
      " |-- DenseVector: vector (nullable = true)\n",
      " |-- SparseVector: vector (nullable = true)\n",
      " |-- VectorUDT: vector (nullable = true)\n",
      " |-- old_DenseVector: vector (nullable = true)\n",
      " |-- old_SparseVector: vector (nullable = true)\n",
      "\n"
     ]
    },
    {
     "name": "stderr",
     "output_type": "stream",
     "text": [
      "C:\\spark-2.0.1-bin-hadoop2.7\\python\\pyspark\\sql\\session.py:316: UserWarning: inferring schema from dict is deprecated,please use pyspark.sql.Row instead\n",
      "  warnings.warn(\"inferring schema from dict is deprecated,\"\n"
     ]
    }
   ],
   "source": [
    "import pyspark\n",
    "import pyspark.sql.types as T\n",
    "import pyspark.sql.functions as F\n",
    "import pyspark.ml\n",
    "import pyspark.mllib.linalg\n",
    "from pyspark.ml.linalg import Vectors,VectorUDT\n",
    "sqlContext = SQLContext(sc)\n",
    "data = [0, 3, 0, 4]\n",
    "d = {}\n",
    "d['DenseVector'] = Vectors.dense(data)\n",
    "d['VectorUDT'] = pyspark.ml.linalg.SparseVector(4, dict(enumerate(data)))\n",
    "d['old_DenseVector'] = pyspark.mllib.linalg.DenseVector(data)\n",
    "d['SparseVector'] = pyspark.ml.linalg.SparseVector(4, dict(enumerate(data)))\n",
    "d['old_SparseVector'] = pyspark.mllib.linalg.SparseVector(4, dict(enumerate(data)))\n",
    "df = sqlContext.createDataFrame([d])\n",
    "df.printSchema()"
   ]
  },
  {
   "cell_type": "code",
   "execution_count": 4,
   "metadata": {
    "collapsed": false
   },
   "outputs": [
    {
     "name": "stdout",
     "output_type": "stream",
     "text": [
      "DenseVector <class 'pyspark.ml.linalg.DenseVector'>\n",
      "old_SparseVector <class 'pyspark.mllib.linalg.SparseVector'>\n",
      "old_DenseVector <class 'pyspark.mllib.linalg.DenseVector'>\n",
      "SparseVector <class 'pyspark.ml.linalg.SparseVector'>\n"
     ]
    }
   ],
   "source": [
    "for x in df.first().asDict().items():\n",
    "  print(x[0], type(x[1]))"
   ]
  },
  {
   "cell_type": "code",
   "execution_count": 20,
   "metadata": {
    "collapsed": false
   },
   "outputs": [
    {
     "ename": "NameError",
     "evalue": "name 'MultilayerPerceptronClassifier' is not defined",
     "output_type": "error",
     "traceback": [
      "\u001b[1;31m---------------------------------------------------------------------------\u001b[0m",
      "\u001b[1;31mNameError\u001b[0m                                 Traceback (most recent call last)",
      "\u001b[1;32m<ipython-input-20-b229582608d3>\u001b[0m in \u001b[0;36m<module>\u001b[1;34m()\u001b[0m\n\u001b[0;32m      5\u001b[0m \u001b[1;33m(\u001b[0m\u001b[1;36m1.0\u001b[0m\u001b[1;33m,\u001b[0m \u001b[0mVectors\u001b[0m\u001b[1;33m.\u001b[0m\u001b[0mdense\u001b[0m\u001b[1;33m(\u001b[0m\u001b[1;33m[\u001b[0m\u001b[1;36m1.0\u001b[0m\u001b[1;33m,\u001b[0m \u001b[1;36m0.0\u001b[0m\u001b[1;33m,\u001b[0m\u001b[1;36m0.0\u001b[0m\u001b[1;33m,\u001b[0m \u001b[1;36m0.0\u001b[0m\u001b[1;33m]\u001b[0m\u001b[1;33m)\u001b[0m\u001b[1;33m)\u001b[0m\u001b[1;33m,\u001b[0m\u001b[1;33m\u001b[0m\u001b[0m\n\u001b[0;32m      6\u001b[0m (0.0, Vectors.dense([1.0, 1.0,1.0, 1.0]))], [\"label\", \"features\"])\n\u001b[1;32m----> 7\u001b[1;33m \u001b[0mmlp\u001b[0m \u001b[1;33m=\u001b[0m \u001b[0mMultilayerPerceptronClassifier\u001b[0m\u001b[1;33m(\u001b[0m\u001b[0mmaxIter\u001b[0m\u001b[1;33m=\u001b[0m\u001b[1;36m100\u001b[0m\u001b[1;33m,\u001b[0m \u001b[0mlayers\u001b[0m\u001b[1;33m=\u001b[0m\u001b[1;33m[\u001b[0m\u001b[1;36m4\u001b[0m\u001b[1;33m,\u001b[0m \u001b[1;36m2\u001b[0m\u001b[1;33m,\u001b[0m \u001b[1;36m4\u001b[0m\u001b[1;33m]\u001b[0m\u001b[1;33m,\u001b[0m \u001b[0mblockSize\u001b[0m\u001b[1;33m=\u001b[0m\u001b[1;36m1\u001b[0m\u001b[1;33m,\u001b[0m \u001b[0mseed\u001b[0m\u001b[1;33m=\u001b[0m\u001b[1;36m123\u001b[0m\u001b[1;33m)\u001b[0m\u001b[1;33m\u001b[0m\u001b[0m\n\u001b[0m\u001b[0;32m      8\u001b[0m \u001b[0mmodel\u001b[0m \u001b[1;33m=\u001b[0m \u001b[0mmlp\u001b[0m\u001b[1;33m.\u001b[0m\u001b[0mfit\u001b[0m\u001b[1;33m(\u001b[0m\u001b[0mdf\u001b[0m\u001b[1;33m)\u001b[0m\u001b[1;33m\u001b[0m\u001b[0m\n\u001b[0;32m      9\u001b[0m \u001b[1;33m\u001b[0m\u001b[0m\n",
      "\u001b[1;31mNameError\u001b[0m: name 'MultilayerPerceptronClassifier' is not defined"
     ]
    }
   ],
   "source": [
    "from pyspark.ml.linalg import Vectors\n",
    "df = sqlContext.createDataFrame([\n",
    "(0.0, Vectors.dense([0.0, 0.0,0.0, 0.0])),\n",
    "(1.0, Vectors.dense([0.0, 1.0,1.0, 1.0])),\n",
    "(1.0, Vectors.dense([1.0, 0.0,0.0, 0.0])),\n",
    "(0.0, Vectors.dense([1.0, 1.0,1.0, 1.0]))], [\"label\", \"features\"])\n",
    "mlp = MultilayerPerceptronClassifier(maxIter=100, layers=[4, 2, 4], blockSize=1, seed=123)\n",
    "model = mlp.fit(df)\n",
    "\n",
    "testDF = sqlContext.createDataFrame([\n",
    "(Vectors.dense([1.0, 0.0,0.0, 0.0]),),\n",
    "(Vectors.dense([1.0, 1.0,1.0, 1.0]),)], [\"features\"])\n",
    "model.transform(testDF).show()"
   ]
  },
  {
   "cell_type": "code",
   "execution_count": null,
   "metadata": {
    "collapsed": true
   },
   "outputs": [],
   "source": [
    "from pyspark.ml.linalg import Vectors,VectorUDT\n",
    "import pyspark.ml.linalg as ml\n",
    "from pyspark.ml.classification import MultilayerPerceptronClassifier\n",
    "from pyspark.ml.evaluation import MulticlassClassificationEvaluator\n",
    "from pyspark.mllib.linalg import SparseVector, VectorUDT\n",
    "from pyspark.sql import types\n",
    "\n",
    "def traitement(x):\n",
    "    return (float(x[-1]-mean),SparseVector(keep_index(x)))\n",
    "    \n",
    "list_indices = [i for i in range(2,20)]\n",
    "\n",
    "schema = types.StructType([\n",
    "    types.StructField(\"label\", types.DoubleType(), True),\n",
    "    types.StructField(\"features\", VectorUDT(), True)\n",
    "])\n",
    "\n",
    "df_Perceptron_tuple = sqlContext.createDataFrame(df.rdd.map(lambda x: traitement(x)),schema)\n",
    "(df_Perceptron_tuple_train,df_Perceptron_tuple_test) = df_Perceptron_tuple.randomSplit([0.7, 0.3])\n",
    "df_Perceptron_tuple_train.select(\"features\").printSchema()\n",
    "   \n",
    "layers = [len(list_indices), 5, 4, 5]\n",
    "# create the trainer and set its parameters\n",
    "trainer = MultilayerPerceptronClassifier(maxIter=100, layers=layers, blockSize=128, seed=1234)\n",
    "# train the model\n",
    "model = trainer.fit(df_Perceptron_tuple_train)\n",
    "# compute accuracy on the test set\n",
    "result = model.transform(df_Perceptron_tuple_test)\n",
    "predictionAndLabels = result.select(\"prediction\", \"label\")\n",
    "evaluator = MulticlassClassificationEvaluator(metricName=\"accuracy\")\n",
    "print(\"Accuracy: \" + str(evaluator.evaluate(predictionAndLabels)))"
   ]
  }
 ],
 "metadata": {
  "kernelspec": {
   "display_name": "Python 3",
   "language": "python",
   "name": "python3"
  },
  "language_info": {
   "codemirror_mode": {
    "name": "ipython",
    "version": 3
   },
   "file_extension": ".py",
   "mimetype": "text/x-python",
   "name": "python",
   "nbconvert_exporter": "python",
   "pygments_lexer": "ipython3",
   "version": "3.5.1"
  }
 },
 "nbformat": 4,
 "nbformat_minor": 0
}
